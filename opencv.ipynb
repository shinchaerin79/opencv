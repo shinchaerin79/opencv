{
 "cells": [
  {
   "cell_type": "code",
   "execution_count": 18,
   "id": "6201ad39-79a5-4701-9f99-eec30d9ae7f6",
   "metadata": {},
   "outputs": [],
   "source": [
    "# 01. move_window.py, 02.window_resize.py\n",
    "import numpy as np\n",
    "import cv2\n",
    "\n",
    "# 이미지 생성 (검은 배경, 픽셀값 200의 회색)\n",
    "image = np.zeros((200, 400), np.uint8) # numpy의 행과 열 <-> openCV의 x, y위치좌표(서로 반대 주의!)\n",
    "image[:] = 200\n",
    "\n",
    "title1, title2 = 'Position1', 'Position2'\n",
    "\n",
    "# 창 생성\n",
    "cv2.namedWindow(title1, cv2.WINDOW_AUTOSIZE)  # 크기 고정\n",
    "# cv2.namedWindow(title1) # default: cv2.WINDOW_AUTOSIZE\n",
    "cv2.namedWindow(title2, cv2.WINDOW_NORMAL)    # 크기 조절 가능\n",
    "\n",
    "# 창 위치 이동\n",
    "cv2.moveWindow(title1, 150, 150)\n",
    "cv2.moveWindow(title2, 400, 50)\n",
    "\n",
    "# 이미지 보여주기\n",
    "cv2.imshow(title1, image)\n",
    "cv2.imshow(title2, image)\n",
    "\n",
    "# 키 입력 대기 후 창 닫기\n",
    "cv2.waitKey(0)\n",
    "cv2.destroyAllWindows()\n"
   ]
  },
  {
   "cell_type": "markdown",
   "id": "409d7aeb-f6d1-49ce-810c-4d3afc6751c3",
   "metadata": {},
   "source": [
    "### 마우스 이벤트 사용"
   ]
  },
  {
   "cell_type": "code",
   "execution_count": 32,
   "id": "ad0227e0-2b7e-463b-a5a8-47e3fa8c0b94",
   "metadata": {},
   "outputs": [
    {
     "name": "stdout",
     "output_type": "stream",
     "text": [
      "마우스 왼쪽 버튼 누르기\n",
      "마우스 오른쪽 버튼 누르기\n",
      "마우스 오른쪽 버튼 떼기\n",
      "마우스 왼쪽 버튼 누르기\n",
      "마우스 왼쪽 버튼 더블클릭\n"
     ]
    }
   ],
   "source": [
    "# 04. event_mouse.py\n",
    "import numpy as np\n",
    "import cv2\n",
    "\n",
    "def onMouse(event, x, y, flags, param): # 콜백 함수 - 이벤트 내용 출력\n",
    "    if event == cv2.EVENT_LBUTTONDOWN:\n",
    "        print(\"마우스 왼쪽 버튼 누르기\")\n",
    "    elif event == cv2.EVENT_RBUTTONDOWN:\n",
    "        print(\"마우스 오른쪽 버튼 누르기\")\n",
    "    elif event == cv2.EVENT_RBUTTONUP:\n",
    "        print(\"마우스 오른쪽 버튼 떼기\")\n",
    "    elif event == cv2.EVENT_LBUTTONDBLCLK:\n",
    "        print(\"마우스 왼쪽 버튼 더블클릭\")\n",
    "\n",
    "image = np.full((200, 300), 255, np.uint8) # 초기 영상 생성\n",
    "\n",
    "title1, title2 = \"Mouse Event1\", \"Mouse Event2\" # 윈도우 이름\n",
    "cv2.imshow(title1, image) # 영상 보기\n",
    "cv2.imshow(title2, image)\n",
    "\n",
    "cv2.setMouseCallback(title1, onMouse)\n",
    "cv2.waitKey(0)\n",
    "cv2.destroyAllWindows()"
   ]
  },
  {
   "cell_type": "code",
   "execution_count": null,
   "id": "1cedac3a-3811-4e6d-a8d6-4bc0dc683063",
   "metadata": {},
   "outputs": [],
   "source": []
  }
 ],
 "metadata": {
  "kernelspec": {
   "display_name": "Python 3 (ipykernel)",
   "language": "python",
   "name": "python3"
  },
  "language_info": {
   "codemirror_mode": {
    "name": "ipython",
    "version": 3
   },
   "file_extension": ".py",
   "mimetype": "text/x-python",
   "name": "python",
   "nbconvert_exporter": "python",
   "pygments_lexer": "ipython3",
   "version": "3.11.5"
  }
 },
 "nbformat": 4,
 "nbformat_minor": 5
}
